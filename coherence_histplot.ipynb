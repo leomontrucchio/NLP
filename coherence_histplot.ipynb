{
 "cells": [
  {
   "cell_type": "code",
   "execution_count": 6,
   "metadata": {},
   "outputs": [],
   "source": [
    "RESULT_PATH = r'D:/Uni/M.1.1 - MLS for DS/M2 - Project'\n",
    "PATH = r'D:/Uni/M.1.1 - MLS for DS/M2 - Project'\n",
    "import os\n",
    "os.chdir(PATH)\n",
    "\n",
    "import pandas as pd\n",
    "import seaborn as sns"
   ]
  },
  {
   "cell_type": "code",
   "execution_count": 19,
   "metadata": {},
   "outputs": [
    {
     "data": {
      "text/html": [
       "<div>\n",
       "<style scoped>\n",
       "    .dataframe tbody tr th:only-of-type {\n",
       "        vertical-align: middle;\n",
       "    }\n",
       "\n",
       "    .dataframe tbody tr th {\n",
       "        vertical-align: top;\n",
       "    }\n",
       "\n",
       "    .dataframe thead th {\n",
       "        text-align: right;\n",
       "    }\n",
       "</style>\n",
       "<table border=\"1\" class=\"dataframe\">\n",
       "  <thead>\n",
       "    <tr style=\"text-align: right;\">\n",
       "      <th></th>\n",
       "      <th>Topics</th>\n",
       "      <th>Coherence</th>\n",
       "      <th>model</th>\n",
       "    </tr>\n",
       "  </thead>\n",
       "  <tbody>\n",
       "    <tr>\n",
       "      <th>0</th>\n",
       "      <td>5</td>\n",
       "      <td>-3.689421</td>\n",
       "      <td>nmf</td>\n",
       "    </tr>\n",
       "    <tr>\n",
       "      <th>1</th>\n",
       "      <td>20</td>\n",
       "      <td>-4.513135</td>\n",
       "      <td>nmf</td>\n",
       "    </tr>\n",
       "    <tr>\n",
       "      <th>2</th>\n",
       "      <td>40</td>\n",
       "      <td>-5.156643</td>\n",
       "      <td>nmf</td>\n",
       "    </tr>\n",
       "    <tr>\n",
       "      <th>0</th>\n",
       "      <td>5</td>\n",
       "      <td>-3.797175</td>\n",
       "      <td>lsa</td>\n",
       "    </tr>\n",
       "    <tr>\n",
       "      <th>2</th>\n",
       "      <td>40</td>\n",
       "      <td>-4.399953</td>\n",
       "      <td>lsa</td>\n",
       "    </tr>\n",
       "    <tr>\n",
       "      <th>1</th>\n",
       "      <td>20</td>\n",
       "      <td>-4.426517</td>\n",
       "      <td>lsa</td>\n",
       "    </tr>\n",
       "    <tr>\n",
       "      <th>0</th>\n",
       "      <td>5</td>\n",
       "      <td>-4.018688</td>\n",
       "      <td>lda</td>\n",
       "    </tr>\n",
       "    <tr>\n",
       "      <th>1</th>\n",
       "      <td>20</td>\n",
       "      <td>-5.965328</td>\n",
       "      <td>lda</td>\n",
       "    </tr>\n",
       "    <tr>\n",
       "      <th>2</th>\n",
       "      <td>40</td>\n",
       "      <td>-8.678213</td>\n",
       "      <td>lda</td>\n",
       "    </tr>\n",
       "    <tr>\n",
       "      <th>0</th>\n",
       "      <td>5</td>\n",
       "      <td>-3.712730</td>\n",
       "      <td>gsdmm</td>\n",
       "    </tr>\n",
       "    <tr>\n",
       "      <th>2</th>\n",
       "      <td>40</td>\n",
       "      <td>-6.939122</td>\n",
       "      <td>gsdmm</td>\n",
       "    </tr>\n",
       "    <tr>\n",
       "      <th>1</th>\n",
       "      <td>20</td>\n",
       "      <td>-6.953294</td>\n",
       "      <td>gsdmm</td>\n",
       "    </tr>\n",
       "    <tr>\n",
       "      <th>0</th>\n",
       "      <td>5</td>\n",
       "      <td>-3.758021</td>\n",
       "      <td>btm</td>\n",
       "    </tr>\n",
       "    <tr>\n",
       "      <th>1</th>\n",
       "      <td>20</td>\n",
       "      <td>-4.093990</td>\n",
       "      <td>btm</td>\n",
       "    </tr>\n",
       "    <tr>\n",
       "      <th>2</th>\n",
       "      <td>40</td>\n",
       "      <td>-4.450570</td>\n",
       "      <td>btm</td>\n",
       "    </tr>\n",
       "  </tbody>\n",
       "</table>\n",
       "</div>"
      ],
      "text/plain": [
       "   Topics  Coherence  model\n",
       "0       5  -3.689421    nmf\n",
       "1      20  -4.513135    nmf\n",
       "2      40  -5.156643    nmf\n",
       "0       5  -3.797175    lsa\n",
       "2      40  -4.399953    lsa\n",
       "1      20  -4.426517    lsa\n",
       "0       5  -4.018688    lda\n",
       "1      20  -5.965328    lda\n",
       "2      40  -8.678213    lda\n",
       "0       5  -3.712730  gsdmm\n",
       "2      40  -6.939122  gsdmm\n",
       "1      20  -6.953294  gsdmm\n",
       "0       5  -3.758021    btm\n",
       "1      20  -4.093990    btm\n",
       "2      40  -4.450570    btm"
      ]
     },
     "execution_count": 19,
     "metadata": {},
     "output_type": "execute_result"
    }
   ],
   "source": [
    "models = [\"btm\",\"lda\",\"lsa\",\"gsdmm\",\"nmf\"]\n",
    "for model in models:\n",
    "    globals()['coherence_%s' % model] = pd.read_csv(f'{RESULT_PATH}/coherence_{model}.csv',encoding='unicode_escape')\n",
    "    globals()['coherence_%s' % model] = globals()['coherence_%s' % model].assign(model = model)\n",
    "   \n",
    "df = pd.concat([coherence_btm,coherence_lda,coherence_lsa,coherence_gsdmm,coherence_nmf]).sort_values(by = [\"model\",\"Coherence\"],ascending=False)\n",
    "df = df.drop(columns = \"Populated Clusters\")\n",
    "df"
   ]
  },
  {
   "cell_type": "code",
   "execution_count": 20,
   "metadata": {},
   "outputs": [
    {
     "name": "stderr",
     "output_type": "stream",
     "text": [
      "d:\\anaconda\\Lib\\site-packages\\seaborn\\categorical.py:3201: UserWarning: Setting `sharex=False` with `color=None` may cause different levels of the `x` variable to share colors. This will change in a future version.\n",
      "  warnings.warn(msg.format(\"sharex\", \"x\"), UserWarning)\n",
      "d:\\anaconda\\Lib\\site-packages\\seaborn\\axisgrid.py:118: UserWarning: The figure layout has changed to tight\n",
      "  self._figure.tight_layout(*args, **kwargs)\n"
     ]
    },
    {
     "data": {
      "text/plain": [
       "<seaborn.axisgrid.FacetGrid at 0x1df99ec8750>"
      ]
     },
     "execution_count": 20,
     "metadata": {},
     "output_type": "execute_result"
    },
    {
     "data": {
      "image/png": "[encoded data removed]",
      "text/plain": [
       "<Figure size 1500x500 with 3 Axes>"
      ]
     },
     "metadata": {},
     "output_type": "display_data"
    }
   ],
   "source": [
    "\n",
    "sns.catplot(y=\"Coherence\", x=\"model\", data=df, col=\"Topics\", kind=\"bar\", sharex=False,)"
   ]
  }
 ],
 "metadata": {
  "kernelspec": {
   "display_name": "keras",
   "language": "python",
   "name": "keras"
  },
  "language_info": {
   "codemirror_mode": {
    "name": "ipython",
    "version": 3
   },
   "file_extension": ".py",
   "mimetype": "text/x-python",
   "name": "python",
   "nbconvert_exporter": "python",
   "pygments_lexer": "ipython3",
   "version": "3.11.5"
  }
 },
 "nbformat": 4,
 "nbformat_minor": 2
}
