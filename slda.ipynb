{
 "cells": [
  {
   "cell_type": "code",
   "execution_count": 11,
   "metadata": {},
   "outputs": [],
   "source": [
    "PATH = r''\n",
    "file_name = 'suspicious_tweets_off.csv'\n",
    "import os\n",
    "os.chdir(PATH)"
   ]
  },
  {
   "cell_type": "code",
   "execution_count": null,
   "metadata": {},
   "outputs": [],
   "source": [
    "%run setup.ipynb"
   ]
  },
  {
   "cell_type": "code",
   "execution_count": 13,
   "metadata": {},
   "outputs": [
    {
     "name": "stdout",
     "output_type": "stream",
     "text": [
      "[['awww bummer shoulda get david carr third day', 1], ['upset update facebook texting might cry result school today also blah', 1], ['dive many time ball manage save rest bound', 1], ['whole body feel itchy like fire', 0], ['hey long time see yes rain bit bit lol fine thank', 1]]\n"
     ]
    }
   ],
   "source": [
    "dataset = []\n",
    "\n",
    "with open(file_name, 'r') as file:\n",
    "    reader = csv.reader(file)\n",
    "    header = next(reader)\n",
    "    for row in reader:\n",
    "        row[1] = int(row[1])\n",
    "        dataset.append(row)\n",
    "\n",
    "print(dataset[:5])"
   ]
  },
  {
   "cell_type": "markdown",
   "metadata": {},
   "source": [
    "Creation of a training set and a test set:"
   ]
  },
  {
   "cell_type": "code",
   "execution_count": 14,
   "metadata": {},
   "outputs": [],
   "source": [
    "docs = [row[0] for row in dataset]\n",
    "labels = [[row[1]] for row in dataset]\n",
    "train_set, test_set, train_labels, test_labels = train_test_split(docs, labels, test_size=0.2, random_state=42)"
   ]
  },
  {
   "cell_type": "markdown",
   "metadata": {},
   "source": [
    "Creation of the corpus:"
   ]
  },
  {
   "cell_type": "code",
   "execution_count": 15,
   "metadata": {},
   "outputs": [],
   "source": [
    "corpus = Corpus()\n",
    "\n",
    "for doc_text, label in zip(train_set, train_labels):\n",
    "    words = word_tokenize(doc_text)\n",
    "    corpus.add_doc(words, y=label)"
   ]
  },
  {
   "cell_type": "markdown",
   "metadata": {},
   "source": [
    "Definition of a function that compute the optimal value of the threshold, based on the F1-score, used for the binary convertion in the next function."
   ]
  },
  {
   "cell_type": "code",
   "execution_count": 16,
   "metadata": {},
   "outputs": [],
   "source": [
    "def find_opt_tresh(thresholds, prob, test_labels):\n",
    "    opt_t = None\n",
    "    binary_predictions_def = None\n",
    "    max_f1 = 0\n",
    "    for t in thresholds:\n",
    "        binary_predictions = (prob > t).astype(int)\n",
    "        f1_temp = f1_score(test_labels, binary_predictions, average='weighted')\n",
    "        if f1_temp > max_f1:\n",
    "            opt_t = t\n",
    "            binary_predictions_def = binary_predictions\n",
    "            max_f1 = f1_temp\n",
    "    return opt_t, binary_predictions_def"
   ]
  },
  {
   "cell_type": "markdown",
   "metadata": {},
   "source": [
    "Defining a function that return the sLDA model with the optimal number of topics, based on the F1-score, and the binary prediction on the test set."
   ]
  },
  {
   "cell_type": "code",
   "execution_count": 20,
   "metadata": {},
   "outputs": [],
   "source": [
    "def find_opt_slda(n_topics, n_thresh, test_set, test_labels):\n",
    "    max_f1 = 0\n",
    "    opt_k = None\n",
    "    opt_t = None\n",
    "    binary_predictions_def = None\n",
    "    slda_model_def = None\n",
    "\n",
    "    for k in n_topics:\n",
    "        slda_model = tp.SLDAModel(vars=['b'], k=k)\n",
    "        slda_model.add_corpus(corpus) #train in two steps\n",
    "        slda_model.train(1000, show_progress=True)\n",
    "\n",
    "        # regression label = topic distribution for a given document\n",
    "        coef = slda_model.get_regression_coef(0) # extracts regression coef\n",
    "        test_docs = [slda_model.make_doc(word_tokenize(doc)) for doc in test_set] # list of test documents \n",
    "        test_predictions = [slda_model.infer(doc) for doc in test_docs]  # document-topic prob distributions\n",
    "        y_test = [np.dot(coef, test_predictions[i][0]) for i in range(len(test_predictions))]\n",
    "        prob = scipy.special.expit(y_test) # applies sigmoid function \n",
    "\n",
    "        current_opt_t, binary_predictions = find_opt_tresh(n_thresh, prob, test_labels)\n",
    "        temp_f1 = f1_score(test_labels, binary_predictions, average='weighted')\n",
    "\n",
    "        if temp_f1 > max_f1:\n",
    "            max_f1 = temp_f1\n",
    "            opt_k = k\n",
    "            opt_t = current_opt_t\n",
    "            binary_predictions_def = binary_predictions\n",
    "            slda_model_def = slda_model\n",
    "\n",
    "    print(f'Optimal number of topics: {opt_k}')\n",
    "    print(f'Optimal threshold: {opt_t}')\n",
    "    \n",
    "    return slda_model_def, binary_predictions_def"
   ]
  },
  {
   "cell_type": "code",
   "execution_count": 21,
   "metadata": {},
   "outputs": [
    {
     "name": "stderr",
     "output_type": "stream",
     "text": [
      "Iteration: 100%|██████████| 1000/1000 [00:22<00:00, 44.19it/s, LLPW: -8.591156]\n",
      "Iteration: 100%|██████████| 1000/1000 [00:25<00:00, 39.36it/s, LLPW: -8.713008]\n",
      "Iteration: 100%|██████████| 1000/1000 [00:32<00:00, 30.47it/s, LLPW: -8.806213]\n",
      "Iteration: 100%|██████████| 1000/1000 [00:36<00:00, 27.77it/s, LLPW: -8.819466]\n",
      "Iteration: 100%|██████████| 1000/1000 [00:45<00:00, 22.17it/s, LLPW: -8.817120]\n",
      "Iteration: 100%|██████████| 1000/1000 [00:48<00:00, 20.81it/s, LLPW: -8.853947]\n",
      "Iteration: 100%|██████████| 1000/1000 [00:59<00:00, 16.71it/s, LLPW: -8.874780]\n",
      "Iteration: 100%|██████████| 1000/1000 [01:03<00:00, 15.80it/s, LLPW: -8.923058]\n",
      "Iteration: 100%|██████████| 1000/1000 [01:15<00:00, 13.33it/s, LLPW: -8.964642]\n",
      "Iteration: 100%|██████████| 1000/1000 [01:19<00:00, 12.53it/s, LLPW: -9.005730]\n"
     ]
    },
    {
     "name": "stdout",
     "output_type": "stream",
     "text": [
      "Optimal number of topics: 20\n",
      "Optimal threshold: 0.8\n"
     ]
    }
   ],
   "source": [
    "n_topics = range(10,101,10)\n",
    "n_thresh = np.round(np.arange(0.5, 1, 0.05), 2)\n",
    "slda_model, binary_predictions = find_opt_slda(n_topics, n_thresh, test_set, test_labels)"
   ]
  },
  {
   "cell_type": "markdown",
   "metadata": {},
   "source": [
    "Computing different metrics:"
   ]
  },
  {
   "cell_type": "code",
   "execution_count": 22,
   "metadata": {},
   "outputs": [
    {
     "name": "stdout",
     "output_type": "stream",
     "text": [
      "Accuracy: 0.949775194648536\n",
      "F1-score: 0.9503088732460222\n",
      "Recall: 0.97\n",
      "Precision: 0.97\n"
     ]
    }
   ],
   "source": [
    "# Accuracy\n",
    "accuracy = accuracy_score(test_labels, binary_predictions)\n",
    "print(f'Accuracy: {accuracy}')\n",
    "\n",
    "# F1-score\n",
    "f1 = f1_score(test_labels, binary_predictions, average='weighted')\n",
    "print(f'F1-score: {f1}')\n",
    "\n",
    "# Function to compute recall and precision\n",
    "def calculate_recall_precision(true_labels, predicted_labels, positive_class=1):\n",
    "    true_positives = sum((true[0] == positive_class) and (pred == positive_class) for true, pred in zip(true_labels, predicted_labels))\n",
    "    false_positives = sum((true[0] != positive_class) and (pred == positive_class) for true, pred in zip(true_labels, predicted_labels))\n",
    "    false_negatives = sum((true[0] == positive_class) and (pred != positive_class) for true, pred in zip(true_labels, predicted_labels))\n",
    "\n",
    "    recall = true_positives / (true_positives + false_negatives) if (true_positives + false_negatives) > 0 else 0.0\n",
    "    precision = true_positives / (true_positives + false_positives) if (true_positives + false_positives) > 0 else 0.0\n",
    "\n",
    "    return recall, precision\n",
    "\n",
    "# Recall and Precision\n",
    "recall, precision = calculate_recall_precision(test_labels, binary_predictions)\n",
    "print(f'Recall: {recall:.2f}')\n",
    "print(f'Precision: {precision:.2f}')"
   ]
  },
  {
   "cell_type": "code",
   "execution_count": null,
   "metadata": {},
   "outputs": [],
   "source": [
    "tmp_plot = tmp.report(model=slda_model, docs=train_set)\n",
    "tmp_plot"
   ]
  }
 ],
 "metadata": {
  "kernelspec": {
   "display_name": "base",
   "language": "python",
   "name": "python3"
  },
  "language_info": {
   "codemirror_mode": {
    "name": "ipython",
    "version": 3
   },
   "file_extension": ".py",
   "mimetype": "text/x-python",
   "name": "python",
   "nbconvert_exporter": "python",
   "pygments_lexer": "ipython3",
   "version": "3.11.4"
  }
 },
 "nbformat": 4,
 "nbformat_minor": 2
}
